{
 "cells": [
  {
   "cell_type": "code",
   "execution_count": 1,
   "id": "216d627a-bda3-44c7-afb4-bfa0ae71afb8",
   "metadata": {},
   "outputs": [],
   "source": [
    "# Import necessary libraries\n",
    "import pandas as pd\n",
    "import torch\n",
    "from transformers import BertTokenizer, BertModel"
   ]
  },
  {
   "cell_type": "code",
   "execution_count": 2,
   "id": "3aec64c2-8807-416d-983a-a3dd0c896cfb",
   "metadata": {},
   "outputs": [],
   "source": [
    "# Load data from Sheet 1 in the Excel file (replace 'url' with the actual file path)\n",
    "url = 'Book.xlsx'\n",
    "sheet1_data = pd.read_excel(url, sheet_name='Sheet1')  # Load specifically 'Sheet1'"
   ]
  },
  {
   "cell_type": "code",
   "execution_count": 3,
   "id": "90087620-e166-44f4-816e-818b48be79f3",
   "metadata": {},
   "outputs": [],
   "source": [
    "# Load pre-trained BERT model and tokenizer\n",
    "tokenizer = BertTokenizer.from_pretrained('bert-base-uncased')\n",
    "model = BertModel.from_pretrained('bert-base-uncased')\n",
    "\n",
    "# Function to compute BERT embeddings for text\n",
    "def get_bert_embedding(text):\n",
    "    inputs = tokenizer(text, return_tensors='pt', truncation=True, padding=True)\n",
    "    outputs = model(**inputs)\n",
    "    # Average token embeddings for simplicity\n",
    "    embeddings = outputs.last_hidden_state.mean(dim=1)\n",
    "    return embeddings.detach().numpy().flatten()\n"
   ]
  },
  {
   "cell_type": "code",
   "execution_count": 4,
   "id": "a2e53500-0177-482e-ac3c-57e30d135b18",
   "metadata": {},
   "outputs": [],
   "source": [
    "# Extract BERT embeddings for the 'Input' column from Sheet 1\n",
    "bert_input_embeddings = sheet1_data['Input'].apply(lambda text: get_bert_embedding(str(text)))"
   ]
  },
  {
   "cell_type": "code",
   "execution_count": 5,
   "id": "09e6a1ed-eecd-4bc3-b557-f3208ddcf6f4",
   "metadata": {},
   "outputs": [],
   "source": [
    "# Create a DataFrame to store the embeddings\n",
    "# Convert the list of embeddings into a DataFrame and name the columns\n",
    "embeddings_df = pd.DataFrame(bert_input_embeddings.tolist(), columns=[f'embed_{i}' for i in range(bert_input_embeddings.iloc[0].size)])"
   ]
  },
  {
   "cell_type": "code",
   "execution_count": 6,
   "id": "c0b6ddcd-47ee-4001-aa57-2d4897c35e1f",
   "metadata": {},
   "outputs": [
    {
     "name": "stdout",
     "output_type": "stream",
     "text": [
      "BERT embeddings saved to bert_embeddings_input_output_custom_columns.xlsx\n"
     ]
    }
   ],
   "source": [
    "# Add the 'Output' column from the original DataFrame\n",
    "embeddings_df['output'] = sheet1_data['Output']\n",
    "\n",
    "# Export embeddings to Excel\n",
    "output_file = 'bert_embeddings_input_output_custom_columns.xlsx'\n",
    "with pd.ExcelWriter(output_file, engine='xlsxwriter') as writer:\n",
    "    embeddings_df.to_excel(writer, sheet_name='BERT Embeddings', index=False)\n",
    "\n",
    "print(f'BERT embeddings saved to {output_file}')"
   ]
  }
 ],
 "metadata": {
  "kernelspec": {
   "display_name": "Python 3 (ipykernel)",
   "language": "python",
   "name": "python3"
  },
  "language_info": {
   "codemirror_mode": {
    "name": "ipython",
    "version": 3
   },
   "file_extension": ".py",
   "mimetype": "text/x-python",
   "name": "python",
   "nbconvert_exporter": "python",
   "pygments_lexer": "ipython3",
   "version": "3.12.4"
  }
 },
 "nbformat": 4,
 "nbformat_minor": 5
}
